{
 "cells": [
  {
   "cell_type": "code",
   "execution_count": 5,
   "id": "taken-pearl",
   "metadata": {},
   "outputs": [],
   "source": [
    "#!/usr/bin/env python\n",
    "# coding: utf-8\n",
    "# # VNA Control \n",
    "# # # All commands http://na.support.keysight.com/pna/help/latest/Programming/GP-IB_Command_Finder/\n",
    "# # # http://na.support.keysight.com/fieldfox/help/Programming/webhelp/FFProgrammingHelp.htm\n",
    "##############################################################################\n",
    "#   import python packages "
   ]
  },
  {
   "cell_type": "code",
   "execution_count": 4,
   "id": "organizational-enhancement",
   "metadata": {},
   "outputs": [],
   "source": [
    "import numpy as np\n",
    "import matplotlib.pyplot as plt\n",
    "import numpy as np\n",
    "import time\n",
    "import pyvisa as visa\n",
    "import csv\n",
    "import time"
   ]
  },
  {
   "cell_type": "code",
   "execution_count": null,
   "id": "elder-dress",
   "metadata": {},
   "outputs": [],
   "source": [
    "##############################################################################\n",
    "# load visa library \n",
    "rm=visa.ResourceManager('C:\\\\Windows\\\\System32\\\\visa64.dll')  # windows\n",
    "# TODO linux\n",
    "# https://edadocs.software.keysight.com/kkbopen/linux-io-libraries-faq-589309025.html\n",
    "# https://www.keysight.com/us/en/lib/software-detail/computer-software/io-libraries-suite-downloads-2175637.html click linux \n",
    "# \n",
    "print(rm.list_resources()) # find connected instrument and get instrument address\n",
    "instrument_address = rm.list_resources()"
   ]
  }
 ],
 "metadata": {
  "kernelspec": {
   "display_name": "Python 3",
   "language": "python",
   "name": "python3"
  },
  "language_info": {
   "codemirror_mode": {
    "name": "ipython",
    "version": 3
   },
   "file_extension": ".py",
   "mimetype": "text/x-python",
   "name": "python",
   "nbconvert_exporter": "python",
   "pygments_lexer": "ipython3",
   "version": "3.7.3"
  }
 },
 "nbformat": 4,
 "nbformat_minor": 5
}
